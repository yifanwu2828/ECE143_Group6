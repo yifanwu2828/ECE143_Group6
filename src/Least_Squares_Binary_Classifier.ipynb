{
 "cells": [
  {
   "cell_type": "markdown",
   "metadata": {},
   "source": [
    "# Least_Squares_Binary_Classifier"
   ]
  },
  {
   "cell_type": "code",
   "execution_count": 1,
   "metadata": {},
   "outputs": [],
   "source": [
    "import numpy as np\n",
    "import pandas as pd\n",
    "import matplotlib.pyplot as plt"
   ]
  },
  {
   "cell_type": "markdown",
   "metadata": {},
   "source": [
    "Load data"
   ]
  },
  {
   "cell_type": "code",
   "execution_count": 2,
   "metadata": {},
   "outputs": [],
   "source": [
    "dataset = pd.read_csv('../Data/clean_data.csv')\n",
    "dataset = dataset.to_numpy()\n",
    "dataset = np.delete(dataset, 8, 1)\n",
    "dataset = np.delete(dataset, 8, 1)\n",
    "dataset = dataset.astype('float64')\n",
    "np.random.shuffle(dataset)\n",
    "class_label = dataset[:, -1] # for last column\n",
    "dataset = dataset[:, :-1] # for all but last column"
   ]
  },
  {
   "cell_type": "code",
   "execution_count": 3,
   "metadata": {},
   "outputs": [
    {
     "name": "stdout",
     "output_type": "stream",
     "text": [
      "(51598, 9)\n",
      "(51598,)\n"
     ]
    }
   ],
   "source": [
    "print(dataset.shape)\n",
    "print(class_label.shape)"
   ]
  },
  {
   "cell_type": "markdown",
   "metadata": {},
   "source": [
    "Separate data into training data and testing data"
   ]
  },
  {
   "cell_type": "code",
   "execution_count": 4,
   "metadata": {},
   "outputs": [],
   "source": [
    "x_train = dataset[0:49000, :]\n",
    "y_train = class_label[0:49000]\n",
    "x_test = dataset[49000:, :]\n",
    "y_test = class_label[49000:]"
   ]
  },
  {
   "cell_type": "code",
   "execution_count": 5,
   "metadata": {},
   "outputs": [
    {
     "name": "stdout",
     "output_type": "stream",
     "text": [
      "(49000, 9)\n",
      "(49000, 1)\n",
      "(2598, 9)\n",
      "(2598, 1)\n"
     ]
    }
   ],
   "source": [
    "print(x_train.shape)\n",
    "y_train.shape = (49000,1)\n",
    "print(y_train.shape)\n",
    "print(x_test.shape)\n",
    "y_test.shape = (2598,1)\n",
    "print(y_test.shape)"
   ]
  },
  {
   "cell_type": "markdown",
   "metadata": {},
   "source": [
    "Least squares calculation, weights saved in alpha and beta\n",
    "\n",
    "alpha: constant bias\n",
    "\n",
    "beta: weights"
   ]
  },
  {
   "cell_type": "code",
   "execution_count": 6,
   "metadata": {},
   "outputs": [
    {
     "name": "stdout",
     "output_type": "stream",
     "text": [
      "(10, 1)\n"
     ]
    }
   ],
   "source": [
    "columnOfOnes = np.ones((49000,1)) # append 1 for adding constant bias term\n",
    "A = np.append(x_train, columnOfOnes, 1)\n",
    "assert np.linalg.matrix_rank(np.matmul(A.T, A)) == 10\n",
    "beta_alpha = np.matmul(np.linalg.inv(np.matmul(A.T, A)), np.matmul(A.T, y_train))\n",
    "print(beta_alpha.shape)"
   ]
  },
  {
   "cell_type": "code",
   "execution_count": 7,
   "metadata": {},
   "outputs": [
    {
     "name": "stdout",
     "output_type": "stream",
     "text": [
      "()\n",
      "(9, 1)\n"
     ]
    }
   ],
   "source": [
    "alpha = beta_alpha[9][0]\n",
    "beta = beta_alpha[0:9, :]\n",
    "print(alpha.shape)\n",
    "print(beta.shape)"
   ]
  },
  {
   "cell_type": "markdown",
   "metadata": {},
   "source": [
    "Checking for training data"
   ]
  },
  {
   "cell_type": "code",
   "execution_count": 8,
   "metadata": {},
   "outputs": [
    {
     "name": "stdout",
     "output_type": "stream",
     "text": [
      "(49000, 1)\n"
     ]
    }
   ],
   "source": [
    "prediction_train = np.matmul(x_train, beta) + alpha\n",
    "print(prediction_train.shape)"
   ]
  },
  {
   "cell_type": "code",
   "execution_count": 9,
   "metadata": {},
   "outputs": [],
   "source": [
    "for i in range(prediction_train.shape[0]):\n",
    "    if prediction_train[i][0] > 0.5:\n",
    "        prediction_train[i][0] = 1\n",
    "    else:\n",
    "        prediction_train[i][0] = 0"
   ]
  },
  {
   "cell_type": "code",
   "execution_count": 10,
   "metadata": {},
   "outputs": [],
   "source": [
    "correct_count_train = 0\n",
    "tp_train = 0\n",
    "fp_train = 0\n",
    "fn_train = 0\n",
    "for i in range(prediction_train.shape[0]):\n",
    "    if prediction_train[i][0] == y_train[i][0]:\n",
    "        correct_count_train += 1\n",
    "    if y_train[i][0] == 1:\n",
    "        if prediction_train[i][0] == 1:\n",
    "            tp_train += 1\n",
    "        else:\n",
    "            fn_train += 1\n",
    "    if y_train[i][0] == 0:\n",
    "        if prediction_train[i][0] == 1:\n",
    "            fp_train += 1"
   ]
  },
  {
   "cell_type": "markdown",
   "metadata": {},
   "source": [
    "Checking for testing set"
   ]
  },
  {
   "cell_type": "code",
   "execution_count": 11,
   "metadata": {},
   "outputs": [
    {
     "name": "stdout",
     "output_type": "stream",
     "text": [
      "(2598, 1)\n"
     ]
    }
   ],
   "source": [
    "prediction_test = np.matmul(x_test, beta) + alpha\n",
    "print(prediction_test.shape)"
   ]
  },
  {
   "cell_type": "code",
   "execution_count": 12,
   "metadata": {},
   "outputs": [],
   "source": [
    "for i in range(prediction_test.shape[0]):\n",
    "    if prediction_test[i][0] > 0.5:\n",
    "        prediction_test[i][0] = 1\n",
    "    else:\n",
    "        prediction_test[i][0] = 0"
   ]
  },
  {
   "cell_type": "code",
   "execution_count": 13,
   "metadata": {},
   "outputs": [],
   "source": [
    "correct_count_test = 0\n",
    "tp_test = 0\n",
    "fp_test = 0\n",
    "fn_test = 0\n",
    "for i in range(prediction_test.shape[0]):\n",
    "    if prediction_test[i][0] == y_test[i][0]:\n",
    "        correct_count_test += 1\n",
    "    if y_test[i][0] == 1:\n",
    "        if prediction_test[i][0] == 1:\n",
    "            tp_test += 1\n",
    "        else:\n",
    "            fn_test += 1\n",
    "    if y_test[i][0] == 0:\n",
    "        if prediction_test[i][0] == 1:\n",
    "            fp_test += 1"
   ]
  },
  {
   "cell_type": "markdown",
   "metadata": {},
   "source": [
    "Output result"
   ]
  },
  {
   "cell_type": "code",
   "execution_count": 14,
   "metadata": {},
   "outputs": [
    {
     "name": "stdout",
     "output_type": "stream",
     "text": [
      "training accuracy:  0.6180816326530613\n",
      "tp_train:  15532\n",
      "fp_train:  9122\n",
      "fn_train:  9592\n",
      "precision_train:  0.629999188772613\n",
      "recall_train:  0.6182136602451839\n",
      "testing accuracy:  0.6331793687451887\n",
      "tp_test:  812\n",
      "fp_test:  461\n",
      "fn_test:  492\n",
      "precision_test:  0.6378633150039277\n",
      "recall_test:  0.6226993865030674\n"
     ]
    }
   ],
   "source": [
    "print(\"training accuracy: \", correct_count_train / y_train.shape[0])\n",
    "print(\"tp_train: \", tp_train)\n",
    "print(\"fp_train: \", fp_train)\n",
    "print(\"fn_train: \", fn_train)\n",
    "print(\"precision_train: \", tp_train/(tp_train+fp_train))\n",
    "print(\"recall_train: \", tp_train/(tp_train+fn_train))\n",
    "print(\"testing accuracy: \", correct_count_test / y_test.shape[0])\n",
    "print(\"tp_test: \", tp_test)\n",
    "print(\"fp_test: \", fp_test)\n",
    "print(\"fn_test: \", fn_test)\n",
    "print(\"precision_test: \", tp_test/(tp_test+fp_test))\n",
    "print(\"recall_test: \", tp_test/(tp_test+fn_test))"
   ]
  },
  {
   "cell_type": "markdown",
   "metadata": {},
   "source": [
    "Conclusion:\n",
    "\n",
    "Lesat squares method presents some under fitting"
   ]
  },
  {
   "cell_type": "markdown",
   "metadata": {},
   "source": [
    "Predicting function"
   ]
  },
  {
   "cell_type": "code",
   "execution_count": 15,
   "metadata": {},
   "outputs": [],
   "source": [
    "def check_you_gonna_get_in(features):\n",
    "    '''\n",
    "    input 9 features\n",
    "    output the confidence\n",
    "    '''\n",
    "    assert type(features).__module__ == np.__name__\n",
    "    assert features.shape[0] == 1\n",
    "    assert features.shape[1] == 9\n",
    "    return np.matmul(features, beta) + alpha"
   ]
  },
  {
   "cell_type": "code",
   "execution_count": 16,
   "metadata": {},
   "outputs": [
    {
     "data": {
      "text/plain": [
       "array([[0.64114522]])"
      ]
     },
     "execution_count": 16,
     "metadata": {},
     "output_type": "execute_result"
    }
   ],
   "source": [
    "check_you_gonna_get_in(x_test[0].reshape(1,9))"
   ]
  }
 ],
 "metadata": {
  "kernelspec": {
   "display_name": "Python 3",
   "language": "python",
   "name": "python3"
  },
  "language_info": {
   "codemirror_mode": {
    "name": "ipython",
    "version": 3
   },
   "file_extension": ".py",
   "mimetype": "text/x-python",
   "name": "python",
   "nbconvert_exporter": "python",
   "pygments_lexer": "ipython3",
   "version": "3.8.6"
  }
 },
 "nbformat": 4,
 "nbformat_minor": 4
}
