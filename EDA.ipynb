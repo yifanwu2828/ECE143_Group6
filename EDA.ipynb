{
 "cells": [
  {
   "cell_type": "code",
   "execution_count": 8,
   "metadata": {},
   "outputs": [],
   "source": [
    "import sys\n",
    "import os\n",
    "\n",
    "import numpy as np\n",
    "import pandas as pd\n",
    "\n",
    "import seaborn as sns\n",
    "import matplotlib.pyplot as plt\n",
    "%matplotlib inline\n",
    "\n",
    "from sklearn.preprocessing import StandardScaler"
   ]
  },
  {
   "cell_type": "code",
   "execution_count": 10,
   "metadata": {},
   "outputs": [],
   "source": [
    "pd.pandas.set_option('display.max_columns',None)"
   ]
  },
  {
   "cell_type": "code",
   "execution_count": 11,
   "metadata": {},
   "outputs": [
    {
     "data": {
      "text/plain": [
       "'/home/yiw084/Documents/GitHub/ECE143_Group6'"
      ]
     },
     "execution_count": 11,
     "metadata": {},
     "output_type": "execute_result"
    }
   ],
   "source": [
    "pwd"
   ]
  },
  {
   "cell_type": "code",
   "execution_count": 20,
   "metadata": {},
   "outputs": [
    {
     "name": "stdout",
     "output_type": "stream",
     "text": [
      "(53644, 26)\n"
     ]
    }
   ],
   "source": [
    "# raw dataset or unprocessed dataset\n",
    "data_path = './Data/original_data.csv'\n",
    "dataset = pd.read_csv(data_path)\n",
    "## print shape of dataset with rows and columns\n",
    "print(dataset.shape)"
   ]
  },
  {
   "cell_type": "code",
   "execution_count": 23,
   "metadata": {},
   "outputs": [
    {
     "data": {
      "text/html": [
       "<div>\n",
       "<style scoped>\n",
       "    .dataframe tbody tr th:only-of-type {\n",
       "        vertical-align: middle;\n",
       "    }\n",
       "\n",
       "    .dataframe tbody tr th {\n",
       "        vertical-align: top;\n",
       "    }\n",
       "\n",
       "    .dataframe thead th {\n",
       "        text-align: right;\n",
       "    }\n",
       "</style>\n",
       "<table border=\"1\" class=\"dataframe\">\n",
       "  <thead>\n",
       "    <tr style=\"text-align: right;\">\n",
       "      <th></th>\n",
       "      <th>old</th>\n",
       "      <th>newQ</th>\n",
       "      <th>newV</th>\n",
       "    </tr>\n",
       "  </thead>\n",
       "  <tbody>\n",
       "    <tr>\n",
       "      <th>0</th>\n",
       "      <td>800</td>\n",
       "      <td>166</td>\n",
       "      <td>170</td>\n",
       "    </tr>\n",
       "    <tr>\n",
       "      <th>1</th>\n",
       "      <td>790</td>\n",
       "      <td>164</td>\n",
       "      <td>170</td>\n",
       "    </tr>\n",
       "    <tr>\n",
       "      <th>2</th>\n",
       "      <td>780</td>\n",
       "      <td>163</td>\n",
       "      <td>170</td>\n",
       "    </tr>\n",
       "    <tr>\n",
       "      <th>3</th>\n",
       "      <td>770</td>\n",
       "      <td>161</td>\n",
       "      <td>170</td>\n",
       "    </tr>\n",
       "    <tr>\n",
       "      <th>4</th>\n",
       "      <td>760</td>\n",
       "      <td>160</td>\n",
       "      <td>170</td>\n",
       "    </tr>\n",
       "  </tbody>\n",
       "</table>\n",
       "</div>"
      ],
      "text/plain": [
       "   old  newQ  newV\n",
       "0  800   166   170\n",
       "1  790   164   170\n",
       "2  780   163   170\n",
       "3  770   161   170\n",
       "4  760   160   170"
      ]
     },
     "execution_count": 23,
     "metadata": {},
     "output_type": "execute_result"
    }
   ],
   "source": [
    "# GRE score conversion table\n",
    "score_table = pd.read_csv('./Data/score.csv')\n",
    "score_table.head()"
   ]
  },
  {
   "cell_type": "code",
   "execution_count": 21,
   "metadata": {},
   "outputs": [
    {
     "data": {
      "text/html": [
       "<div>\n",
       "<style scoped>\n",
       "    .dataframe tbody tr th:only-of-type {\n",
       "        vertical-align: middle;\n",
       "    }\n",
       "\n",
       "    .dataframe tbody tr th {\n",
       "        vertical-align: top;\n",
       "    }\n",
       "\n",
       "    .dataframe thead th {\n",
       "        text-align: right;\n",
       "    }\n",
       "</style>\n",
       "<table border=\"1\" class=\"dataframe\">\n",
       "  <thead>\n",
       "    <tr style=\"text-align: right;\">\n",
       "      <th></th>\n",
       "      <th>userName</th>\n",
       "      <th>major</th>\n",
       "      <th>researchExp</th>\n",
       "      <th>industryExp</th>\n",
       "      <th>specialization</th>\n",
       "      <th>toeflScore</th>\n",
       "      <th>program</th>\n",
       "      <th>department</th>\n",
       "      <th>toeflEssay</th>\n",
       "      <th>internExp</th>\n",
       "      <th>greV</th>\n",
       "      <th>greQ</th>\n",
       "      <th>userProfileLink</th>\n",
       "      <th>journalPubs</th>\n",
       "      <th>greA</th>\n",
       "      <th>topperCgpa</th>\n",
       "      <th>termAndYear</th>\n",
       "      <th>confPubs</th>\n",
       "      <th>ugCollege</th>\n",
       "      <th>gmatA</th>\n",
       "      <th>cgpa</th>\n",
       "      <th>gmatQ</th>\n",
       "      <th>cgpaScale</th>\n",
       "      <th>gmatV</th>\n",
       "      <th>univName</th>\n",
       "      <th>admit</th>\n",
       "    </tr>\n",
       "  </thead>\n",
       "  <tbody>\n",
       "    <tr>\n",
       "      <th>0</th>\n",
       "      <td>143saf</td>\n",
       "      <td>Systems and Control</td>\n",
       "      <td>0</td>\n",
       "      <td>18</td>\n",
       "      <td>Robotics</td>\n",
       "      <td>112.0</td>\n",
       "      <td>MS</td>\n",
       "      <td>Instrumentation &amp; Control</td>\n",
       "      <td>26</td>\n",
       "      <td>5.0</td>\n",
       "      <td>160.0</td>\n",
       "      <td>167.0</td>\n",
       "      <td>http://www.edulix.com/unisearch/user.php?uid=2...</td>\n",
       "      <td>0</td>\n",
       "      <td>4.5</td>\n",
       "      <td>8.90</td>\n",
       "      <td>Fall - 2015</td>\n",
       "      <td>0</td>\n",
       "      <td>Dharamsinh Desai University</td>\n",
       "      <td>NaN</td>\n",
       "      <td>8.50</td>\n",
       "      <td>NaN</td>\n",
       "      <td>10</td>\n",
       "      <td>NaN</td>\n",
       "      <td>Worcester Polytechnic Institute</td>\n",
       "      <td>1</td>\n",
       "    </tr>\n",
       "    <tr>\n",
       "      <th>1</th>\n",
       "      <td>7790ashish</td>\n",
       "      <td>Manufacturing Engineering</td>\n",
       "      <td>0</td>\n",
       "      <td>0</td>\n",
       "      <td>NaN</td>\n",
       "      <td>NaN</td>\n",
       "      <td>MS</td>\n",
       "      <td>0</td>\n",
       "      <td>NaN</td>\n",
       "      <td>0.0</td>\n",
       "      <td>NaN</td>\n",
       "      <td>NaN</td>\n",
       "      <td>http://www.edulix.com/unisearch/user.php?uid=1...</td>\n",
       "      <td>0</td>\n",
       "      <td>NaN</td>\n",
       "      <td>0.00</td>\n",
       "      <td>Fall - 2013</td>\n",
       "      <td>0</td>\n",
       "      <td>NaN</td>\n",
       "      <td>NaN</td>\n",
       "      <td>0.00</td>\n",
       "      <td>NaN</td>\n",
       "      <td>0</td>\n",
       "      <td>NaN</td>\n",
       "      <td>Worcester Polytechnic Institute</td>\n",
       "      <td>1</td>\n",
       "    </tr>\n",
       "    <tr>\n",
       "      <th>2</th>\n",
       "      <td>AB25</td>\n",
       "      <td>(MIS / MSIM / MSIS / MSIT)</td>\n",
       "      <td>0</td>\n",
       "      <td>66</td>\n",
       "      <td>NaN</td>\n",
       "      <td>94.0</td>\n",
       "      <td>MS</td>\n",
       "      <td>Computer Engineering</td>\n",
       "      <td>21</td>\n",
       "      <td>0.0</td>\n",
       "      <td>146.0</td>\n",
       "      <td>157.0</td>\n",
       "      <td>http://www.edulix.com/unisearch/user.php?uid=2...</td>\n",
       "      <td>0</td>\n",
       "      <td>3.0</td>\n",
       "      <td>81.00</td>\n",
       "      <td>Fall - 2015</td>\n",
       "      <td>0</td>\n",
       "      <td>IET DAVV</td>\n",
       "      <td>NaN</td>\n",
       "      <td>78.28</td>\n",
       "      <td>NaN</td>\n",
       "      <td>100</td>\n",
       "      <td>NaN</td>\n",
       "      <td>Worcester Polytechnic Institute</td>\n",
       "      <td>1</td>\n",
       "    </tr>\n",
       "    <tr>\n",
       "      <th>3</th>\n",
       "      <td>abhijitg</td>\n",
       "      <td>NaN</td>\n",
       "      <td>0</td>\n",
       "      <td>0</td>\n",
       "      <td>NaN</td>\n",
       "      <td>NaN</td>\n",
       "      <td>NaN</td>\n",
       "      <td>0</td>\n",
       "      <td>NaN</td>\n",
       "      <td>0.0</td>\n",
       "      <td>NaN</td>\n",
       "      <td>NaN</td>\n",
       "      <td>http://www.edulix.com/unisearch/user.php?uid=1...</td>\n",
       "      <td>NaN</td>\n",
       "      <td>NaN</td>\n",
       "      <td>0.00</td>\n",
       "      <td>NaN</td>\n",
       "      <td>NaN</td>\n",
       "      <td>NaN</td>\n",
       "      <td>NaN</td>\n",
       "      <td>0.00</td>\n",
       "      <td>NaN</td>\n",
       "      <td>0</td>\n",
       "      <td>NaN</td>\n",
       "      <td>Worcester Polytechnic Institute</td>\n",
       "      <td>1</td>\n",
       "    </tr>\n",
       "    <tr>\n",
       "      <th>4</th>\n",
       "      <td>abhijitgang</td>\n",
       "      <td>MIS</td>\n",
       "      <td>0</td>\n",
       "      <td>0</td>\n",
       "      <td>NaN</td>\n",
       "      <td>81.0</td>\n",
       "      <td>MS</td>\n",
       "      <td>computer</td>\n",
       "      <td>NaN</td>\n",
       "      <td>0.0</td>\n",
       "      <td>420.0</td>\n",
       "      <td>770.0</td>\n",
       "      <td>http://www.edulix.com/unisearch/user.php?uid=1...</td>\n",
       "      <td>0</td>\n",
       "      <td>2.5</td>\n",
       "      <td>70.00</td>\n",
       "      <td>Fall - 2011</td>\n",
       "      <td>0</td>\n",
       "      <td>Pune University</td>\n",
       "      <td>NaN</td>\n",
       "      <td>57.00</td>\n",
       "      <td>NaN</td>\n",
       "      <td>100</td>\n",
       "      <td>NaN</td>\n",
       "      <td>Worcester Polytechnic Institute</td>\n",
       "      <td>1</td>\n",
       "    </tr>\n",
       "    <tr>\n",
       "      <th>5</th>\n",
       "      <td>abhishek001</td>\n",
       "      <td>MIS</td>\n",
       "      <td>0</td>\n",
       "      <td>0</td>\n",
       "      <td>Information Security Management</td>\n",
       "      <td>273.0</td>\n",
       "      <td>MS</td>\n",
       "      <td>CE</td>\n",
       "      <td>6</td>\n",
       "      <td>0.0</td>\n",
       "      <td>410.0</td>\n",
       "      <td>1010.0</td>\n",
       "      <td>http://www.edulix.com/unisearch/user.php?uid=145</td>\n",
       "      <td>0</td>\n",
       "      <td>600.0</td>\n",
       "      <td>75.00</td>\n",
       "      <td>Fall - 2006</td>\n",
       "      <td>0</td>\n",
       "      <td>Thadomal Shahani Engineering College</td>\n",
       "      <td>NaN</td>\n",
       "      <td>52.00</td>\n",
       "      <td>NaN</td>\n",
       "      <td>100</td>\n",
       "      <td>NaN</td>\n",
       "      <td>Worcester Polytechnic Institute</td>\n",
       "      <td>1</td>\n",
       "    </tr>\n",
       "    <tr>\n",
       "      <th>6</th>\n",
       "      <td>agteakash</td>\n",
       "      <td>MIS</td>\n",
       "      <td>0</td>\n",
       "      <td>0</td>\n",
       "      <td>Business Analytics</td>\n",
       "      <td>104.0</td>\n",
       "      <td>MS</td>\n",
       "      <td>Computer Engineering</td>\n",
       "      <td>27</td>\n",
       "      <td>0.0</td>\n",
       "      <td>150.0</td>\n",
       "      <td>161.0</td>\n",
       "      <td>http://www.edulix.com/unisearch/user.php?uid=2...</td>\n",
       "      <td>0</td>\n",
       "      <td>4.5</td>\n",
       "      <td>77.81</td>\n",
       "      <td>Fall - 2015</td>\n",
       "      <td>0</td>\n",
       "      <td>University of Mumbai</td>\n",
       "      <td>NaN</td>\n",
       "      <td>62.20</td>\n",
       "      <td>NaN</td>\n",
       "      <td>100</td>\n",
       "      <td>NaN</td>\n",
       "      <td>Worcester Polytechnic Institute</td>\n",
       "      <td>1</td>\n",
       "    </tr>\n",
       "    <tr>\n",
       "      <th>7</th>\n",
       "      <td>alankarMIS</td>\n",
       "      <td>MIS-management related courses</td>\n",
       "      <td>0</td>\n",
       "      <td>0</td>\n",
       "      <td>NaN</td>\n",
       "      <td>95.0</td>\n",
       "      <td>MS</td>\n",
       "      <td>IT</td>\n",
       "      <td>22</td>\n",
       "      <td>0.0</td>\n",
       "      <td>147.0</td>\n",
       "      <td>156.0</td>\n",
       "      <td>http://www.edulix.com/unisearch/user.php?uid=1...</td>\n",
       "      <td>0</td>\n",
       "      <td>3.0</td>\n",
       "      <td>76.00</td>\n",
       "      <td>Fall - 2012</td>\n",
       "      <td>0</td>\n",
       "      <td>MU</td>\n",
       "      <td>NaN</td>\n",
       "      <td>52.00</td>\n",
       "      <td>NaN</td>\n",
       "      <td>100</td>\n",
       "      <td>NaN</td>\n",
       "      <td>Worcester Polytechnic Institute</td>\n",
       "      <td>1</td>\n",
       "    </tr>\n",
       "    <tr>\n",
       "      <th>8</th>\n",
       "      <td>amandeepsharma89</td>\n",
       "      <td>MIS</td>\n",
       "      <td>0</td>\n",
       "      <td>0</td>\n",
       "      <td>NaN</td>\n",
       "      <td>101.0</td>\n",
       "      <td>MS</td>\n",
       "      <td>I.T</td>\n",
       "      <td>24</td>\n",
       "      <td>0.0</td>\n",
       "      <td>490.0</td>\n",
       "      <td>740.0</td>\n",
       "      <td>http://www.edulix.com/unisearch/user.php?uid=6415</td>\n",
       "      <td>0</td>\n",
       "      <td>3.0</td>\n",
       "      <td>74.00</td>\n",
       "      <td>Fall - 2011</td>\n",
       "      <td>0</td>\n",
       "      <td>MU</td>\n",
       "      <td>NaN</td>\n",
       "      <td>64.00</td>\n",
       "      <td>NaN</td>\n",
       "      <td>100</td>\n",
       "      <td>NaN</td>\n",
       "      <td>Worcester Polytechnic Institute</td>\n",
       "      <td>1</td>\n",
       "    </tr>\n",
       "    <tr>\n",
       "      <th>9</th>\n",
       "      <td>amatelia3</td>\n",
       "      <td>Computer Science</td>\n",
       "      <td>0</td>\n",
       "      <td>0</td>\n",
       "      <td>NaN</td>\n",
       "      <td>107.0</td>\n",
       "      <td>MS</td>\n",
       "      <td>Information Technology</td>\n",
       "      <td>NaN</td>\n",
       "      <td>0.0</td>\n",
       "      <td>550.0</td>\n",
       "      <td>780.0</td>\n",
       "      <td>http://www.edulix.com/unisearch/user.php?uid=4175</td>\n",
       "      <td>0</td>\n",
       "      <td>4.5</td>\n",
       "      <td>0.00</td>\n",
       "      <td>Fall - 2011</td>\n",
       "      <td>0</td>\n",
       "      <td>K J Somaiya College of Engiineering</td>\n",
       "      <td>NaN</td>\n",
       "      <td>71.40</td>\n",
       "      <td>NaN</td>\n",
       "      <td>100</td>\n",
       "      <td>NaN</td>\n",
       "      <td>Worcester Polytechnic Institute</td>\n",
       "      <td>1</td>\n",
       "    </tr>\n",
       "  </tbody>\n",
       "</table>\n",
       "</div>"
      ],
      "text/plain": [
       "           userName                           major  researchExp  industryExp  \\\n",
       "0            143saf             Systems and Control            0           18   \n",
       "1        7790ashish       Manufacturing Engineering            0            0   \n",
       "2              AB25      (MIS / MSIM / MSIS / MSIT)            0           66   \n",
       "3          abhijitg                             NaN            0            0   \n",
       "4       abhijitgang                             MIS            0            0   \n",
       "5       abhishek001                             MIS            0            0   \n",
       "6         agteakash                             MIS            0            0   \n",
       "7        alankarMIS  MIS-management related courses            0            0   \n",
       "8  amandeepsharma89                             MIS            0            0   \n",
       "9         amatelia3                Computer Science            0            0   \n",
       "\n",
       "                    specialization  toeflScore program  \\\n",
       "0                         Robotics       112.0      MS   \n",
       "1                              NaN         NaN      MS   \n",
       "2                              NaN        94.0      MS   \n",
       "3                              NaN         NaN     NaN   \n",
       "4                              NaN        81.0      MS   \n",
       "5  Information Security Management       273.0      MS   \n",
       "6               Business Analytics       104.0      MS   \n",
       "7                              NaN        95.0      MS   \n",
       "8                              NaN       101.0      MS   \n",
       "9                              NaN       107.0      MS   \n",
       "\n",
       "                  department toeflEssay  internExp   greV    greQ  \\\n",
       "0  Instrumentation & Control         26        5.0  160.0   167.0   \n",
       "1                          0        NaN        0.0    NaN     NaN   \n",
       "2       Computer Engineering         21        0.0  146.0   157.0   \n",
       "3                          0        NaN        0.0    NaN     NaN   \n",
       "4                   computer        NaN        0.0  420.0   770.0   \n",
       "5                         CE          6        0.0  410.0  1010.0   \n",
       "6       Computer Engineering         27        0.0  150.0   161.0   \n",
       "7                         IT         22        0.0  147.0   156.0   \n",
       "8                        I.T         24        0.0  490.0   740.0   \n",
       "9     Information Technology        NaN        0.0  550.0   780.0   \n",
       "\n",
       "                                     userProfileLink journalPubs   greA  \\\n",
       "0  http://www.edulix.com/unisearch/user.php?uid=2...           0    4.5   \n",
       "1  http://www.edulix.com/unisearch/user.php?uid=1...           0    NaN   \n",
       "2  http://www.edulix.com/unisearch/user.php?uid=2...           0    3.0   \n",
       "3  http://www.edulix.com/unisearch/user.php?uid=1...         NaN    NaN   \n",
       "4  http://www.edulix.com/unisearch/user.php?uid=1...           0    2.5   \n",
       "5   http://www.edulix.com/unisearch/user.php?uid=145           0  600.0   \n",
       "6  http://www.edulix.com/unisearch/user.php?uid=2...           0    4.5   \n",
       "7  http://www.edulix.com/unisearch/user.php?uid=1...           0    3.0   \n",
       "8  http://www.edulix.com/unisearch/user.php?uid=6415           0    3.0   \n",
       "9  http://www.edulix.com/unisearch/user.php?uid=4175           0    4.5   \n",
       "\n",
       "   topperCgpa  termAndYear confPubs                             ugCollege  \\\n",
       "0        8.90  Fall - 2015        0           Dharamsinh Desai University   \n",
       "1        0.00  Fall - 2013        0                                   NaN   \n",
       "2       81.00  Fall - 2015        0                              IET DAVV   \n",
       "3        0.00          NaN      NaN                                   NaN   \n",
       "4       70.00  Fall - 2011        0                       Pune University   \n",
       "5       75.00  Fall - 2006        0  Thadomal Shahani Engineering College   \n",
       "6       77.81  Fall - 2015        0                  University of Mumbai   \n",
       "7       76.00  Fall - 2012        0                                    MU   \n",
       "8       74.00  Fall - 2011        0                                    MU   \n",
       "9        0.00  Fall - 2011        0   K J Somaiya College of Engiineering   \n",
       "\n",
       "   gmatA   cgpa  gmatQ  cgpaScale  gmatV                         univName  \\\n",
       "0    NaN   8.50    NaN         10    NaN  Worcester Polytechnic Institute   \n",
       "1    NaN   0.00    NaN          0    NaN  Worcester Polytechnic Institute   \n",
       "2    NaN  78.28    NaN        100    NaN  Worcester Polytechnic Institute   \n",
       "3    NaN   0.00    NaN          0    NaN  Worcester Polytechnic Institute   \n",
       "4    NaN  57.00    NaN        100    NaN  Worcester Polytechnic Institute   \n",
       "5    NaN  52.00    NaN        100    NaN  Worcester Polytechnic Institute   \n",
       "6    NaN  62.20    NaN        100    NaN  Worcester Polytechnic Institute   \n",
       "7    NaN  52.00    NaN        100    NaN  Worcester Polytechnic Institute   \n",
       "8    NaN  64.00    NaN        100    NaN  Worcester Polytechnic Institute   \n",
       "9    NaN  71.40    NaN        100    NaN  Worcester Polytechnic Institute   \n",
       "\n",
       "   admit  \n",
       "0      1  \n",
       "1      1  \n",
       "2      1  \n",
       "3      1  \n",
       "4      1  \n",
       "5      1  \n",
       "6      1  \n",
       "7      1  \n",
       "8      1  \n",
       "9      1  "
      ]
     },
     "execution_count": 21,
     "metadata": {},
     "output_type": "execute_result"
    }
   ],
   "source": [
    "dataset.head(10)"
   ]
  },
  {
   "cell_type": "code",
   "execution_count": 14,
   "metadata": {},
   "outputs": [
    {
     "data": {
      "text/plain": [
       "array(['MS', nan, 'PhD', 'Both MS and PhD', 'MS/PhD'], dtype=object)"
      ]
     },
     "execution_count": 14,
     "metadata": {},
     "output_type": "execute_result"
    }
   ],
   "source": [
    "pd.unique(dataset['program'])"
   ]
  },
  {
   "cell_type": "markdown",
   "metadata": {},
   "source": [
    "### Missing Values"
   ]
  },
  {
   "cell_type": "code",
   "execution_count": 6,
   "metadata": {},
   "outputs": [
    {
     "name": "stdout",
     "output_type": "stream",
     "text": [
      "major \t\t 0.0072 \t % missing values\n",
      "specialization \t\t 0.4044 \t % missing values\n",
      "toeflScore \t\t 0.0823 \t % missing values\n",
      "program \t\t 0.006 \t % missing values\n",
      "toeflEssay \t\t 0.7787 \t % missing values\n",
      "internExp \t\t 0.0003 \t % missing values\n",
      "greV \t\t 0.0234 \t % missing values\n",
      "greQ \t\t 0.0227 \t % missing values\n",
      "journalPubs \t\t 0.006 \t % missing values\n",
      "greA \t\t 0.0533 \t % missing values\n",
      "topperCgpa \t\t 0.0001 \t % missing values\n",
      "termAndYear \t\t 0.006 \t % missing values\n",
      "confPubs \t\t 0.006 \t % missing values\n",
      "ugCollege \t\t 0.0425 \t % missing values\n",
      "gmatA \t\t 0.9978 \t % missing values\n",
      "gmatQ \t\t 0.9977 \t % missing values\n",
      "gmatV \t\t 0.9979 \t % missing values\n"
     ]
    }
   ],
   "source": [
    "# make a list of features which has missing values\n",
    "features_with_na=[features for features in dataset.columns if dataset[features].isnull().sum()>1]\n",
    "# print the feature name and the percentage of missing values\n",
    "for feature in features_with_na:\n",
    "    print(feature, '\\t\\t',np.round(dataset[feature].isnull().mean(), 4), '\\t','% missing values')"
   ]
  },
  {
   "cell_type": "code",
   "execution_count": 7,
   "metadata": {},
   "outputs": [
    {
     "data": {
      "image/png": "[encoded data removed]",
      "text/plain": [
       "<Figure size 432x288 with 1 Axes>"
      ]
     },
     "metadata": {
      "needs_background": "light"
     },
     "output_type": "display_data"
    },
    {
     "data": {
      "image/png": "[encoded data removed]",
      "text/plain": [
       "<Figure size 432x288 with 1 Axes>"
      ]
     },
     "metadata": {
      "needs_background": "light"
     },
     "output_type": "display_data"
    },
    {
     "data": {
      "image/png": "[encoded data removed]",
      "text/plain": [
       "<Figure size 432x288 with 1 Axes>"
      ]
     },
     "metadata": {
      "needs_background": "light"
     },
     "output_type": "display_data"
    },
    {
     "data": {
      "image/png": "[encoded data removed]",
      "text/plain": [
       "<Figure size 432x288 with 1 Axes>"
      ]
     },
     "metadata": {
      "needs_background": "light"
     },
     "output_type": "display_data"
    },
    {
     "data": {
      "image/png": "[encoded data removed]",
      "text/plain": [
       "<Figure size 432x288 with 1 Axes>"
      ]
     },
     "metadata": {
      "needs_background": "light"
     },
     "output_type": "display_data"
    },
    {
     "data": {
      "image/png": "[encoded data removed]",
      "text/plain": [
       "<Figure size 432x288 with 1 Axes>"
      ]
     },
     "metadata": {
      "needs_background": "light"
     },
     "output_type": "display_data"
    },
    {
     "data": {
      "image/png": "[encoded data removed]",
      "text/plain": [
       "<Figure size 432x288 with 1 Axes>"
      ]
     },
     "metadata": {
      "needs_background": "light"
     },
     "output_type": "display_data"
    },
    {
     "data": {
      "image/png": "[encoded data removed]",
      "text/plain": [
       "<Figure size 432x288 with 1 Axes>"
      ]
     },
     "metadata": {
      "needs_background": "light"
     },
     "output_type": "display_data"
    },
    {
     "data": {
      "image/png": "[encoded data removed]",
      "text/plain": [
       "<Figure size 432x288 with 1 Axes>"
      ]
     },
     "metadata": {
      "needs_background": "light"
     },
     "output_type": "display_data"
    },
    {
     "data": {
      "image/png": "[encoded data removed]",
      "text/plain": [
       "<Figure size 432x288 with 1 Axes>"
      ]
     },
     "metadata": {
      "needs_background": "light"
     },
     "output_type": "display_data"
    },
    {
     "data": {
      "image/png": "[encoded data removed]",
      "text/plain": [
       "<Figure size 432x288 with 1 Axes>"
      ]
     },
     "metadata": {
      "needs_background": "light"
     },
     "output_type": "display_data"
    },
    {
     "data": {
      "image/png": "[encoded data removed]",
      "text/plain": [
       "<Figure size 432x288 with 1 Axes>"
      ]
     },
     "metadata": {
      "needs_background": "light"
     },
     "output_type": "display_data"
    },
    {
     "data": {
      "image/png": "[encoded data removed]",
      "text/plain": [
       "<Figure size 432x288 with 1 Axes>"
      ]
     },
     "metadata": {
      "needs_background": "light"
     },
     "output_type": "display_data"
    },
    {
     "data": {
      "image/png": "[encoded data removed]",
      "text/plain": [
       "<Figure size 432x288 with 1 Axes>"
      ]
     },
     "metadata": {
      "needs_background": "light"
     },
     "output_type": "display_data"
    },
    {
     "data": {
      "image/png": "[encoded data removed]",
      "text/plain": [
       "<Figure size 432x288 with 1 Axes>"
      ]
     },
     "metadata": {
      "needs_background": "light"
     },
     "output_type": "display_data"
    },
    {
     "data": {
      "image/png": "[encoded data removed]",
      "text/plain": [
       "<Figure size 432x288 with 1 Axes>"
      ]
     },
     "metadata": {
      "needs_background": "light"
     },
     "output_type": "display_data"
    },
    {
     "data": {
      "image/png": "[encoded data removed]",
      "text/plain": [
       "<Figure size 432x288 with 1 Axes>"
      ]
     },
     "metadata": {
      "needs_background": "light"
     },
     "output_type": "display_data"
    }
   ],
   "source": [
    "\n",
    "for feature in features_with_na:\n",
    "    data = dataset.copy()\n",
    "    \n",
    "    # make a variable that indicates 1 if the observation was missing or zero otherwise\n",
    "    data[feature] = np.where(data[feature].isnull(), 1, 0)\n",
    "    \n",
    "    data.groupby(feature)['admit'].median().plot.bar()\n",
    "    plt.title(feature)\n",
    "    plt.show()"
   ]
  },
  {
   "cell_type": "code",
   "execution_count": 15,
   "metadata": {},
   "outputs": [],
   "source": [
    "# Drop gmatA, gmatQ, gmatQ, userProfileLink, "
   ]
  },
  {
   "cell_type": "code",
   "execution_count": 17,
   "metadata": {},
   "outputs": [
    {
     "name": "stdout",
     "output_type": "stream",
     "text": [
      "userName 53644\n"
     ]
    }
   ],
   "source": [
    "print('userName {}'.format(len(dataset['userName'])))"
   ]
  },
  {
   "cell_type": "markdown",
   "metadata": {},
   "source": [
    "### Numerical Variables"
   ]
  },
  {
   "cell_type": "code",
   "execution_count": null,
   "metadata": {},
   "outputs": [],
   "source": []
  }
 ],
 "metadata": {
  "kernelspec": {
   "display_name": "Python 3",
   "language": "python",
   "name": "python3"
  },
  "language_info": {
   "codemirror_mode": {
    "name": "ipython",
    "version": 3
   },
   "file_extension": ".py",
   "mimetype": "text/x-python",
   "name": "python",
   "nbconvert_exporter": "python",
   "pygments_lexer": "ipython3",
   "version": "3.8.5"
  }
 },
 "nbformat": 4,
 "nbformat_minor": 4
}
