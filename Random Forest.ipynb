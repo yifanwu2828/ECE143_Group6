{
 "cells": [
  {
   "cell_type": "code",
   "execution_count": 1,
   "metadata": {},
   "outputs": [],
   "source": [
    "import numpy as np\n",
    "import pandas as pd\n",
    "import matplotlib.pyplot as plt\n",
    "from sklearn.utils import shuffle\n",
    "from sklearn.preprocessing import MinMaxScaler\n",
    "from sklearn.ensemble import RandomForestRegressor\n",
    "from sklearn.ensemble import RandomForestClassifier"
   ]
  },
  {
   "cell_type": "code",
   "execution_count": 2,
   "metadata": {},
   "outputs": [
    {
     "data": {
      "text/html": [
       "<div>\n",
       "<style scoped>\n",
       "    .dataframe tbody tr th:only-of-type {\n",
       "        vertical-align: middle;\n",
       "    }\n",
       "\n",
       "    .dataframe tbody tr th {\n",
       "        vertical-align: top;\n",
       "    }\n",
       "\n",
       "    .dataframe thead th {\n",
       "        text-align: right;\n",
       "    }\n",
       "</style>\n",
       "<table border=\"1\" class=\"dataframe\">\n",
       "  <thead>\n",
       "    <tr style=\"text-align: right;\">\n",
       "      <th></th>\n",
       "      <th>researchExp</th>\n",
       "      <th>industryExp</th>\n",
       "      <th>internExp</th>\n",
       "      <th>greV</th>\n",
       "      <th>greQ</th>\n",
       "      <th>journalPubs</th>\n",
       "      <th>confPubs</th>\n",
       "      <th>targetRank</th>\n",
       "    </tr>\n",
       "  </thead>\n",
       "  <tbody>\n",
       "    <tr>\n",
       "      <th>46038</th>\n",
       "      <td>0</td>\n",
       "      <td>0</td>\n",
       "      <td>0.0</td>\n",
       "      <td>164.0</td>\n",
       "      <td>153.0</td>\n",
       "      <td>0</td>\n",
       "      <td>0</td>\n",
       "      <td>15</td>\n",
       "    </tr>\n",
       "    <tr>\n",
       "      <th>468</th>\n",
       "      <td>0</td>\n",
       "      <td>0</td>\n",
       "      <td>0.0</td>\n",
       "      <td>157.0</td>\n",
       "      <td>168.0</td>\n",
       "      <td>0</td>\n",
       "      <td>0</td>\n",
       "      <td>29</td>\n",
       "    </tr>\n",
       "    <tr>\n",
       "      <th>40785</th>\n",
       "      <td>0</td>\n",
       "      <td>0</td>\n",
       "      <td>0.0</td>\n",
       "      <td>154.0</td>\n",
       "      <td>159.0</td>\n",
       "      <td>0</td>\n",
       "      <td>0</td>\n",
       "      <td>24</td>\n",
       "    </tr>\n",
       "    <tr>\n",
       "      <th>24360</th>\n",
       "      <td>0</td>\n",
       "      <td>0</td>\n",
       "      <td>3.0</td>\n",
       "      <td>156.0</td>\n",
       "      <td>165.0</td>\n",
       "      <td>0</td>\n",
       "      <td>0</td>\n",
       "      <td>16</td>\n",
       "    </tr>\n",
       "    <tr>\n",
       "      <th>17457</th>\n",
       "      <td>0</td>\n",
       "      <td>0</td>\n",
       "      <td>0.0</td>\n",
       "      <td>33.0</td>\n",
       "      <td>47.0</td>\n",
       "      <td>0</td>\n",
       "      <td>0</td>\n",
       "      <td>78</td>\n",
       "    </tr>\n",
       "  </tbody>\n",
       "</table>\n",
       "</div>"
      ],
      "text/plain": [
       "       researchExp  industryExp  internExp   greV   greQ  journalPubs  \\\n",
       "46038            0            0        0.0  164.0  153.0            0   \n",
       "468              0            0        0.0  157.0  168.0            0   \n",
       "40785            0            0        0.0  154.0  159.0            0   \n",
       "24360            0            0        3.0  156.0  165.0            0   \n",
       "17457            0            0        0.0   33.0   47.0            0   \n",
       "\n",
       "       confPubs  targetRank  \n",
       "46038         0          15  \n",
       "468           0          29  \n",
       "40785         0          24  \n",
       "24360         0          16  \n",
       "17457         0          78  "
      ]
     },
     "execution_count": 2,
     "metadata": {},
     "output_type": "execute_result"
    }
   ],
   "source": [
    "data = pd.read_csv('clean_data.csv')\n",
    "features = data.drop(columns=['Unnamed: 0', 'univName', 'year'])\n",
    "#features = features.drop(columns=['researchExp', 'industryExp', 'internExp','journalPubs','confPubs'])\n",
    "features = shuffle(features)\n",
    "labels = features.pop('admit')\n",
    "features.head()"
   ]
  },
  {
   "cell_type": "code",
   "execution_count": 3,
   "metadata": {},
   "outputs": [],
   "source": [
    "# Use 20% test split (80% training + validation)\n",
    "ntrain = int(len(features)*0.8)\n",
    "x_train = features.iloc[:ntrain,:]\n",
    "y_train = labels[:ntrain]\n",
    "x_test = features.iloc[ntrain:,:]\n",
    "y_test = labels[ntrain:]\n",
    "\n",
    "scaler = MinMaxScaler() #scale features between 0 and 1\n",
    "x_train = scaler.fit_transform(x_train)\n",
    "x_test = scaler.transform(x_test)"
   ]
  },
  {
   "cell_type": "code",
   "execution_count": 49,
   "metadata": {},
   "outputs": [],
   "source": [
    "clf = RandomForestClassifier(n_estimators=5, max_features=8, max_depth=10, random_state=1)\n",
    "clf.fit(x_train, y_train)\n",
    "\n",
    "y_pred = clf.predict(x_test)"
   ]
  },
  {
   "cell_type": "code",
   "execution_count": 50,
   "metadata": {},
   "outputs": [
    {
     "name": "stdout",
     "output_type": "stream",
     "text": [
      "accuracy: 0.6719348659003831\n",
      "precision: 0.6922011084718923\n",
      "recall: 0.6515744363704118\n"
     ]
    }
   ],
   "source": [
    "y_test = np.array(y_test)\n",
    "print('accuracy: {}'.format(sum(y_pred == y_test)/len(y_test)))\n",
    "print('precision: {}'.format(sum(y_pred+y_test==2)/sum(y_pred==1)))\n",
    "print('recall: {}'.format(sum(y_pred+y_test==2)/sum(y_test==1)))"
   ]
  },
  {
   "cell_type": "code",
   "execution_count": 69,
   "metadata": {
    "scrolled": false
   },
   "outputs": [
    {
     "name": "stderr",
     "output_type": "stream",
     "text": [
      "/opt/conda/lib/python3.7/site-packages/ipykernel_launcher.py:6: FutureWarning: Using a non-tuple sequence for multidimensional indexing is deprecated; use `arr[tuple(seq)]` instead of `arr[seq]`. In the future this will be interpreted as an array index, `arr[np.array(seq)]`, which will result either in an error or a different result.\n",
      "  \n"
     ]
    },
    {
     "data": {
      "image/png": "[encoded data removed]",
      "text/plain": [
       "<Figure size 792x432 with 1 Axes>"
      ]
     },
     "metadata": {
      "needs_background": "light"
     },
     "output_type": "display_data"
    }
   ],
   "source": [
    "nfeatures = 8\n",
    "fi = clf.feature_importances_ # get feature importances\n",
    "fi_sort = np.argsort(fi)[::-1] # sort importances most to least\n",
    "plt.figure(figsize=(11,6))\n",
    "plt.bar(range(nfeatures), fi[fi_sort[0:nfeatures]], width=1, \\\n",
    "        tick_label=features.columns.values[[fi_sort[0:nfeatures]]]) # plot features importances\n",
    "plt.ylabel('Feature Importance (avg across trees)', fontsize=14)\n",
    "plt.xticks(rotation = 30, fontsize=12)\n",
    "plt.yticks(fontsize=14)\n",
    "plt.show()"
   ]
  }
 ],
 "metadata": {
  "kernelspec": {
   "display_name": "Python 3",
   "language": "python",
   "name": "python3"
  },
  "language_info": {
   "codemirror_mode": {
    "name": "ipython",
    "version": 3
   },
   "file_extension": ".py",
   "mimetype": "text/x-python",
   "name": "python",
   "nbconvert_exporter": "python",
   "pygments_lexer": "ipython3",
   "version": "3.7.6"
  }
 },
 "nbformat": 4,
 "nbformat_minor": 4
}
