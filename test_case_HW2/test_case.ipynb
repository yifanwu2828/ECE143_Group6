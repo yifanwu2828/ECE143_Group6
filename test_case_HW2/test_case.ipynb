{
 "cells": [
  {
   "cell_type": "markdown",
   "metadata": {},
   "source": [
    "# Question 1 \n",
    "Given a set of weights {1,3,9,27}, write a function to construct any number between 1 and 40. In other words, using the set above and the addition and subtraction operations, construct any integer between 1 and 40 without re-using elements. For example, 4 = 1+1+1+1 is not acceptable.\n",
    "\n",
    "For example,\n",
    "\n",
    "8 = 9 - 1\n",
    "\n",
    "10 = 1 + 9\n",
    "\n",
    "Hint: see the itertools module. Your function should return a 4-element list of the decomposition. For example, your return value given input 10 should be [1,0,1,0] because 11 + 03 + 91 + 270=10. Name your function get_power_of3..\n"
   ]
  },
  {
   "cell_type": "code",
   "execution_count": 1,
   "metadata": {},
   "outputs": [],
   "source": [
    "import  itertools as it"
   ]
  },
  {
   "cell_type": "code",
   "execution_count": 2,
   "metadata": {},
   "outputs": [],
   "source": [
    "def get_power_of3(n):\n",
    "    '''\n",
    "    Given a set of weights {1,3,9,27}, \n",
    "    using the set above and the addition and subtraction operations,\n",
    "    construct any integer between 1 and 40 without re-using elements.\n",
    "    :param n: input int\n",
    "    :type n: int\n",
    "    :output: list\n",
    "    '''\n",
    "    assert isinstance(n, int)\n",
    "    assert n>=1 and n<=40\n",
    "    \n",
    "    weight = {1,3,9,27}\n",
    "    lst = list(it.product([-1, 0, 1], repeat =4))\n",
    "    #print(isinstance(lst, list))\n",
    "    result = []\n",
    "\n",
    "    for element in lst:\n",
    "        compute = [sorted(list(weight))[i]*element[i] for i in range(len(weight))]\n",
    "        result.append(compute)\n",
    "    \n",
    "    for j in range(len(result)):\n",
    "        if n == sum(result[j]):\n",
    "            #print(result[j])\n",
    "            return list(lst[j])"
   ]
  },
  {
   "cell_type": "markdown",
   "metadata": {},
   "source": [
    "**Validation Tests** <br>\n",
    "Check for corner cases and constraints in the inputs enlist all cases used for testing"
   ]
  },
  {
   "cell_type": "code",
   "execution_count": 3,
   "metadata": {},
   "outputs": [
    {
     "ename": "NameError",
     "evalue": "name 'n' is not defined",
     "output_type": "error",
     "traceback": [
      "\u001b[0;31m---------------------------------------------------------------------------\u001b[0m",
      "\u001b[0;31mNameError\u001b[0m                                 Traceback (most recent call last)",
      "\u001b[0;32m<ipython-input-3-a9e63e66dc8f>\u001b[0m in \u001b[0;36m<module>\u001b[0;34m\u001b[0m\n\u001b[0;32m----> 1\u001b[0;31m \u001b[0;32massert\u001b[0m \u001b[0misinstance\u001b[0m\u001b[0;34m(\u001b[0m\u001b[0mn\u001b[0m\u001b[0;34m,\u001b[0m \u001b[0mint\u001b[0m\u001b[0;34m)\u001b[0m\u001b[0;34m\u001b[0m\u001b[0;34m\u001b[0m\u001b[0m\n\u001b[0m\u001b[1;32m      2\u001b[0m \u001b[0;32massert\u001b[0m \u001b[0;36m1\u001b[0m \u001b[0;34m<=\u001b[0m \u001b[0mn\u001b[0m \u001b[0;34m<=\u001b[0m \u001b[0;36m40\u001b[0m\u001b[0;34m\u001b[0m\u001b[0;34m\u001b[0m\u001b[0m\n\u001b[1;32m      3\u001b[0m \u001b[0;32massert\u001b[0m \u001b[0mn\u001b[0m \u001b[0;32min\u001b[0m \u001b[0mrange\u001b[0m\u001b[0;34m(\u001b[0m\u001b[0;36m1\u001b[0m\u001b[0;34m,\u001b[0m\u001b[0;36m41\u001b[0m\u001b[0;34m)\u001b[0m\u001b[0;34m\u001b[0m\u001b[0;34m\u001b[0m\u001b[0m\n",
      "\u001b[0;31mNameError\u001b[0m: name 'n' is not defined"
     ]
    }
   ],
   "source": [
    "assert isinstance(n, int)\n",
    "assert 1 <= n <= 40\n",
    "assert n in range(1,41)"
   ]
  },
  {
   "cell_type": "markdown",
   "metadata": {},
   "source": [
    "**Functional Tests** <br>\n",
    "Check function output matches expected result enlist all cases used for testing"
   ]
  },
  {
   "cell_type": "code",
   "execution_count": null,
   "metadata": {},
   "outputs": [],
   "source": [
    "import operator\n",
    "\n",
    "weight = {1,3,9,27}\n",
    "lst = list(it.product([-1, 0, 1], repeat =4))\n",
    "\n",
    "for n in range(1,41):\n",
    "    assert 4==len(get_power_of3(n))\n",
    "    assert n == sum(list(map(operator.mul, sorted(list(weight)), get_power_of3(n))))\n",
    "    assert tuple(get_power_of3(n)) in lst"
   ]
  },
  {
   "cell_type": "markdown",
   "metadata": {},
   "source": [
    "# Question 2 \n",
    "Using corpus of 10,000 common English words, create a new file that consists of each consecutive non-overlapping sequence of five lines merged into one line. Here are the first 10 lines of ouptut corresponding to the above sample corpus:\n",
    "\n",
    "\n",
    "the of and to a\n",
    "\n",
    "\n",
    "in for is on that\n",
    "\n",
    "\n",
    "by this with i you\n",
    "\n",
    "\n",
    "it not or be are\n",
    "\n",
    "\n",
    "from at as your all\n",
    "\n",
    "\n",
    "have new more an was\n",
    "\n",
    "\n",
    "we will home can us\n",
    "\n",
    "\n",
    "about if page my has\n",
    "\n",
    "\n",
    "search free but our one\n",
    "\n",
    "\n",
    "other do no information time\n",
    "\n",
    ".\n",
    "\n",
    "If the last group has less than five at the end, just write out the last group. Here is your function signature: write_chunks_of_five(words,fname). The words is a list of words from the above corpus and fname is the output filename string.\n"
   ]
  },
  {
   "cell_type": "code",
   "execution_count": null,
   "metadata": {},
   "outputs": [],
   "source": [
    "def write_chunks_of_five(words,fname):\n",
    "    '''\n",
    "    create a new file that consists of each consecutive non-overlapping sequence of five lines merged into one line.\n",
    "    :param words: input list\n",
    "    :param fname: input str\n",
    "    '''\n",
    "    assert isinstance(words, list)\n",
    "    assert isinstance(fname, str)\n",
    "\n",
    "    with open(fname,'w') as f:\n",
    "        for i in range(len(words)):\n",
    "            f.write(words[i]+\" \")\n",
    "            if (i+1)%5 ==0 :\n",
    "                f.writelines(\"\\n\")"
   ]
  },
  {
   "cell_type": "markdown",
   "metadata": {},
   "source": [
    "**Validation Tests** <br>\n",
    "Check for corner cases and constraints in the inputs enlist all cases used for testing"
   ]
  },
  {
   "cell_type": "code",
   "execution_count": null,
   "metadata": {},
   "outputs": [],
   "source": [
    "assert isinstance(words, list)\n",
    "assert isinstance(fname, str)"
   ]
  },
  {
   "cell_type": "markdown",
   "metadata": {},
   "source": [
    "**Functional Tests** <br>\n",
    "Check function output matches expected result enlist all cases used for testing"
   ]
  },
  {
   "cell_type": "code",
   "execution_count": null,
   "metadata": {},
   "outputs": [],
   "source": [
    "filename = \"google-10000-english-no-swears.txt\"\n",
    "with open(filename,'r') as f:\n",
    "        data = [line.rstrip() for line in f]\n",
    "fname = \"words.txt\"\n",
    "write_chunks_of_five(data,fname)"
   ]
  },
  {
   "cell_type": "code",
   "execution_count": null,
   "metadata": {},
   "outputs": [],
   "source": [
    "with open(fname,'r') as f:\n",
    "    lines = f.readlines()\n",
    "\n",
    "for i,line in enumerate(lines):\n",
    "    lst = line.split()\n",
    "    if i == len(lines)-1:\n",
    "        continue\n",
    "    else:\n",
    "        assert(len(lst) == 5)\n",
    "    "
   ]
  },
  {
   "cell_type": "markdown",
   "metadata": {},
   "source": [
    "# Question 3 \n",
    "Here is some sample data\n",
    "\n",
    "data=[5,4,6,1,9,0,3,9,2,7,10,8,4,7,1,2,7,6,5,2,8,2,0,1,1,1,2,10,6,2]\n",
    "\n",
    "Write a function that can write the following formula to three columns to a comma-separated file:\n",
    "\n",
    "data_value, data_value2, (data_value+data_value2)/3.\n",
    "Here is your function signature write_columns(data,fname). Your written floating-point values should be formatted to the hundreths place. Your function can only accept lists of integers/floats as input. Note that fname is a string and data must be a list.\n"
   ]
  },
  {
   "cell_type": "markdown",
   "metadata": {},
   "source": [
    "**Validation Tests** <br>\n",
    "Check for corner cases and constraints in the inputs enlist all cases used for testing"
   ]
  },
  {
   "cell_type": "code",
   "execution_count": null,
   "metadata": {},
   "outputs": [],
   "source": [
    "assert  isinstance(data, list)\n",
    "assert  isinstance(fname, str)"
   ]
  },
  {
   "cell_type": "markdown",
   "metadata": {},
   "source": [
    "**Functional Tests** <br>\n",
    "Check function output matches expected result enlist all cases used for testing"
   ]
  },
  {
   "cell_type": "code",
   "execution_count": 6,
   "metadata": {},
   "outputs": [],
   "source": [
    "def write_columns(data,fname):\n",
    "    '''\n",
    "    write the following formula to three columns to a comma-separated file:\n",
    "    data_value, data_value**2, (data_value+data_value**2)/3.\n",
    "    :param data: input list\n",
    "    :param fname: input str\n",
    "    '''\n",
    "    assert  isinstance(data, list)\n",
    "    assert  isinstance(fname, str)\n",
    "    \n",
    "    data_copy = data[:]\n",
    "    data_copy = [float(i) for i in data]\n",
    "    \n",
    "    with open(fname,'w') as f:\n",
    "        for i in data_copy:\n",
    "            f.write(\"{:.2f},\".format(i,)) \n",
    "            j = i**2\n",
    "            f.write(\"{:.2f},\".format(j,))\n",
    "            k =(i+j)/3 \n",
    "            f.write(\"{:.2f}\\n\".format(k,))"
   ]
  },
  {
   "cell_type": "code",
   "execution_count": 7,
   "metadata": {},
   "outputs": [],
   "source": [
    "sample_data=[5,4,6,1,9,0,3,9,2,7,10,8,4,7,1,\n",
    "          2,7,6,5,2,8,2,0,1,1,1,2,10,6,2]"
   ]
  },
  {
   "cell_type": "code",
   "execution_count": 8,
   "metadata": {},
   "outputs": [],
   "source": [
    "write_col_fname = \"file.txt\"\n",
    "write_columns(sample_data, write_col_fname)"
   ]
  },
  {
   "cell_type": "code",
   "execution_count": 25,
   "metadata": {},
   "outputs": [],
   "source": [
    "\n",
    "with open(write_col_fname,'r') as f:\n",
    "        lines = f.readlines() \n",
    "for line in lines:\n",
    "    a = line.split(\",\")\n",
    "    "
   ]
  },
  {
   "cell_type": "code",
   "execution_count": 23,
   "metadata": {},
   "outputs": [
    {
     "data": {
      "text/plain": [
       "['2.00', '4.00', '2.00\\n']"
      ]
     },
     "execution_count": 23,
     "metadata": {},
     "output_type": "execute_result"
    }
   ],
   "source": [
    "a"
   ]
  },
  {
   "cell_type": "code",
   "execution_count": null,
   "metadata": {},
   "outputs": [],
   "source": []
  }
 ],
 "metadata": {
  "kernelspec": {
   "display_name": "Python 3",
   "language": "python",
   "name": "python3"
  },
  "language_info": {
   "codemirror_mode": {
    "name": "ipython",
    "version": 3
   },
   "file_extension": ".py",
   "mimetype": "text/x-python",
   "name": "python",
   "nbconvert_exporter": "python",
   "pygments_lexer": "ipython3",
   "version": "3.8.5"
  }
 },
 "nbformat": 4,
 "nbformat_minor": 4
}
