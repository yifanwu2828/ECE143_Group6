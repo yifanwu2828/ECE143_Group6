{
 "cells": [
  {
   "cell_type": "code",
   "execution_count": 1,
   "metadata": {},
   "outputs": [],
   "source": [
    "import numpy as np\n",
    "import pandas as pd\n",
    "import matplotlib.pyplot as plt\n",
    "#from sklearn.utils import shuffle\n",
    "from sklearn.model_selection import train_test_split\n",
    "from sklearn.preprocessing import MinMaxScaler\n",
    "from sklearn.ensemble import GradientBoostingClassifier\n",
    "from sklearn.ensemble import RandomForestClassifier\n",
    "from sklearn import svm\n",
    "from sklearn.linear_model import LinearRegression\n",
    "from sklearn.linear_model import LogisticRegression\n",
    "from xgboost import XGBClassifier"
   ]
  },
  {
   "cell_type": "markdown",
   "metadata": {},
   "source": [
    "## Data processing"
   ]
  },
  {
   "cell_type": "code",
   "execution_count": 2,
   "metadata": {},
   "outputs": [
    {
     "data": {
      "text/html": [
       "<div>\n",
       "<style scoped>\n",
       "    .dataframe tbody tr th:only-of-type {\n",
       "        vertical-align: middle;\n",
       "    }\n",
       "\n",
       "    .dataframe tbody tr th {\n",
       "        vertical-align: top;\n",
       "    }\n",
       "\n",
       "    .dataframe thead th {\n",
       "        text-align: right;\n",
       "    }\n",
       "</style>\n",
       "<table border=\"1\" class=\"dataframe\">\n",
       "  <thead>\n",
       "    <tr style=\"text-align: right;\">\n",
       "      <th></th>\n",
       "      <th>researchExp</th>\n",
       "      <th>industryExp</th>\n",
       "      <th>internExp</th>\n",
       "      <th>greV</th>\n",
       "      <th>greQ</th>\n",
       "      <th>journalPubs</th>\n",
       "      <th>confPubs</th>\n",
       "      <th>targetRank</th>\n",
       "    </tr>\n",
       "  </thead>\n",
       "  <tbody>\n",
       "    <tr>\n",
       "      <th>0</th>\n",
       "      <td>0</td>\n",
       "      <td>18</td>\n",
       "      <td>5.0</td>\n",
       "      <td>160.0</td>\n",
       "      <td>167.0</td>\n",
       "      <td>0</td>\n",
       "      <td>0</td>\n",
       "      <td>91</td>\n",
       "    </tr>\n",
       "    <tr>\n",
       "      <th>1</th>\n",
       "      <td>0</td>\n",
       "      <td>66</td>\n",
       "      <td>0.0</td>\n",
       "      <td>146.0</td>\n",
       "      <td>157.0</td>\n",
       "      <td>0</td>\n",
       "      <td>0</td>\n",
       "      <td>91</td>\n",
       "    </tr>\n",
       "    <tr>\n",
       "      <th>2</th>\n",
       "      <td>0</td>\n",
       "      <td>0</td>\n",
       "      <td>0.0</td>\n",
       "      <td>148.0</td>\n",
       "      <td>161.0</td>\n",
       "      <td>0</td>\n",
       "      <td>0</td>\n",
       "      <td>91</td>\n",
       "    </tr>\n",
       "    <tr>\n",
       "      <th>3</th>\n",
       "      <td>0</td>\n",
       "      <td>0</td>\n",
       "      <td>0.0</td>\n",
       "      <td>150.0</td>\n",
       "      <td>161.0</td>\n",
       "      <td>0</td>\n",
       "      <td>0</td>\n",
       "      <td>91</td>\n",
       "    </tr>\n",
       "    <tr>\n",
       "      <th>4</th>\n",
       "      <td>0</td>\n",
       "      <td>0</td>\n",
       "      <td>0.0</td>\n",
       "      <td>147.0</td>\n",
       "      <td>156.0</td>\n",
       "      <td>0</td>\n",
       "      <td>0</td>\n",
       "      <td>91</td>\n",
       "    </tr>\n",
       "  </tbody>\n",
       "</table>\n",
       "</div>"
      ],
      "text/plain": [
       "   researchExp  industryExp  internExp   greV   greQ  journalPubs  confPubs  \\\n",
       "0            0           18        5.0  160.0  167.0            0         0   \n",
       "1            0           66        0.0  146.0  157.0            0         0   \n",
       "2            0            0        0.0  148.0  161.0            0         0   \n",
       "3            0            0        0.0  150.0  161.0            0         0   \n",
       "4            0            0        0.0  147.0  156.0            0         0   \n",
       "\n",
       "   targetRank  \n",
       "0          91  \n",
       "1          91  \n",
       "2          91  \n",
       "3          91  \n",
       "4          91  "
      ]
     },
     "execution_count": 2,
     "metadata": {},
     "output_type": "execute_result"
    }
   ],
   "source": [
    "data = pd.read_csv('clean_data.csv')\n",
    "features = data.drop(columns=['Unnamed: 0', 'univName', 'year'])\n",
    "#features = features.drop(columns=['researchExp', 'industryExp', 'internExp','journalPubs','confPubs'])\n",
    "#features = shuffle(features)\n",
    "labels = features.pop('admit')\n",
    "features.head()"
   ]
  },
  {
   "cell_type": "code",
   "execution_count": 3,
   "metadata": {},
   "outputs": [],
   "source": [
    "# Use 20% test split (80% training + validation)\n",
    "x_train, x_test, y_train, y_test = train_test_split(features, labels, test_size=0.2, random_state=1)\n",
    "\n",
    "scaler = MinMaxScaler() #scale features between 0 and 1\n",
    "x_train = scaler.fit_transform(x_train)\n",
    "x_test = scaler.transform(x_test)"
   ]
  },
  {
   "cell_type": "markdown",
   "metadata": {},
   "source": [
    "## Models"
   ]
  },
  {
   "cell_type": "code",
   "execution_count": 4,
   "metadata": {},
   "outputs": [
    {
     "name": "stdout",
     "output_type": "stream",
     "text": [
      "[05:49:32] WARNING: ../src/learner.cc:1061: Starting in XGBoost 1.3.0, the default evaluation metric used with the objective 'binary:logistic' was changed from 'error' to 'logloss'. Explicitly set eval_metric if you'd like to restore the old behavior.\n"
     ]
    }
   ],
   "source": [
    "# Linear regression model\n",
    "lin_reg = LinearRegression()\n",
    "lin_reg.fit(x_train, y_train)\n",
    "\n",
    "# Logistic regression model\n",
    "log_reg = LogisticRegression()\n",
    "log_reg.fit(x_train, y_train)\n",
    "\n",
    "# random forest\n",
    "RF = RandomForestClassifier(n_estimators=5, max_features=8, max_depth=10, random_state=1)\n",
    "RF.fit(x_train, y_train)\n",
    "\n",
    "# Gradient boosted decision tree\n",
    "GBDT = GradientBoostingClassifier(n_estimators=20, learning_rate=0.1, max_features=8, max_depth=10, random_state=1)\n",
    "GBDT.fit(x_train, y_train)\n",
    "\n",
    "# support vector machine\n",
    "SVM = svm.SVC()\n",
    "SVM.fit(x_train, y_train)\n",
    "\n",
    "# XGBoost\n",
    "XGB = XGBClassifier(use_label_encoder=False)\n",
    "XGB.fit(x_train, y_train)\n",
    "\n",
    "y_test = np.array(y_test)"
   ]
  },
  {
   "cell_type": "markdown",
   "metadata": {},
   "source": [
    "## Prediction and evaluations"
   ]
  },
  {
   "cell_type": "code",
   "execution_count": 5,
   "metadata": {},
   "outputs": [],
   "source": [
    "def evaluate(y_pred, y_test):\n",
    "    '''\n",
    "    compute the accuracy, precision, and recall of a model.\n",
    "    :y_pred: predicted labels (np.ndarray)\n",
    "    :y_test: test labels (np.ndarray)\n",
    "    '''\n",
    "    assert type(y_pred) == np.ndarray and type(y_test) == np.ndarray\n",
    "    accuracy = sum(y_pred == y_test)/len(y_test)\n",
    "    precision = sum(y_pred+y_test==2)/sum(y_pred==1)\n",
    "    recall = sum(y_pred+y_test==2)/sum(y_test==1)\n",
    "    print('accuracy: {}'.format(accuracy))\n",
    "    print('precision: {}'.format(precision))\n",
    "    print('recall: {}'.format(recall))\n",
    "    return"
   ]
  },
  {
   "cell_type": "code",
   "execution_count": 6,
   "metadata": {},
   "outputs": [
    {
     "name": "stdout",
     "output_type": "stream",
     "text": [
      "======== Linear regression ========\n",
      "accuracy: 0.603544061302682\n",
      "precision: 0.6281211625051166\n",
      "recall: 0.5692821368948247\n",
      "======== Logistic regression ========\n",
      "accuracy: 0.6039272030651341\n",
      "precision: 0.6277461350691619\n",
      "recall: 0.5724355407160081\n",
      "======== Random forest ========\n",
      "accuracy: 0.6781609195402298\n",
      "precision: 0.7052759248029109\n",
      "recall: 0.6471897607122983\n",
      "======== Gradient boosted decision tree ========\n",
      "accuracy: 0.6770114942528735\n",
      "precision: 0.6939481268011527\n",
      "recall: 0.6700055648302726\n",
      "======== Support vector machine ========\n",
      "accuracy: 0.6085249042145594\n",
      "precision: 0.6279937180997252\n",
      "recall: 0.593396401409757\n",
      "======== XGBoost ========\n",
      "accuracy: 0.6818007662835249\n",
      "precision: 0.697010093315559\n",
      "recall: 0.6789092932665554\n"
     ]
    }
   ],
   "source": [
    "print('======== Linear regression ========')\n",
    "y_pred = lin_reg.predict(x_test) > 0.5\n",
    "evaluate(y_pred, y_test)\n",
    "\n",
    "print('======== Logistic regression ========')\n",
    "y_pred = log_reg.predict(x_test) > 0.5\n",
    "evaluate(y_pred, y_test)\n",
    "\n",
    "print('======== Random forest ========')\n",
    "y_pred = RF.predict(x_test)\n",
    "evaluate(y_pred, y_test)\n",
    "\n",
    "print('======== Gradient boosted decision tree ========')\n",
    "y_pred = GBDT.predict(x_test)\n",
    "evaluate(y_pred, y_test)\n",
    "\n",
    "print('======== Support vector machine ========')\n",
    "y_pred = SVM.predict(x_test)\n",
    "evaluate(y_pred, y_test)\n",
    "\n",
    "print('======== XGBoost ========')\n",
    "y_pred = XGB.predict(x_test)\n",
    "evaluate(y_pred, y_test)"
   ]
  }
 ],
 "metadata": {
  "kernelspec": {
   "display_name": "Python 3",
   "language": "python",
   "name": "python3"
  },
  "language_info": {
   "codemirror_mode": {
    "name": "ipython",
    "version": 3
   },
   "file_extension": ".py",
   "mimetype": "text/x-python",
   "name": "python",
   "nbconvert_exporter": "python",
   "pygments_lexer": "ipython3",
   "version": "3.7.6"
  }
 },
 "nbformat": 4,
 "nbformat_minor": 4
}
